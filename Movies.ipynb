{
 "cells": [
  {
   "cell_type": "markdown",
   "metadata": {},
   "source": [
    "# Project 1 - Move Recommendations - AiCore"
   ]
  },
  {
   "cell_type": "code",
   "execution_count": 1,
   "metadata": {},
   "outputs": [],
   "source": [
    "import json\n",
    "\n",
    "with open('Movie-Recommendation.json', 'r') as f:\n",
    "    movies = json.load(f)"
   ]
  },
  {
   "cell_type": "markdown",
   "metadata": {},
   "source": [
    "## Milestone 1: Understand the data"
   ]
  },
  {
   "cell_type": "markdown",
   "metadata": {},
   "source": [
    "#### Task 1"
   ]
  },
  {
   "cell_type": "markdown",
   "metadata": {},
   "source": [
    "1. Select the first movie in the list\n",
    "2. What data type is the movie returned?"
   ]
  },
  {
   "cell_type": "code",
   "execution_count": 2,
   "metadata": {},
   "outputs": [
    {
     "name": "stdout",
     "output_type": "stream",
     "text": [
      "5\n"
     ]
    }
   ],
   "source": [
    "movie_length = len(movies)\n",
    "print(movie_length)"
   ]
  },
  {
   "cell_type": "markdown",
   "metadata": {},
   "source": [
    "#### Task 2"
   ]
  },
  {
   "cell_type": "markdown",
   "metadata": {},
   "source": [
    "1. Select the first movie in the list\n",
    "2. What data type is the movie returned?"
   ]
  },
  {
   "cell_type": "code",
   "execution_count": 3,
   "metadata": {},
   "outputs": [
    {
     "name": "stdout",
     "output_type": "stream",
     "text": [
      "{'title': 'The Shawshank Redemption', 'description': 'Two imprisoned men bond over a number of years, finding solace and eventual redemption through acts of common decency.', 'genre': 'Drama', 'image_url': 'https://m.media-amazon.com/images/M/MV5BMDFkYTc0MGEtZmNhMC00ZDIzLWFmNTEtODM1ZmRlYWMwMWFmXkEyXkFqcGdeQXVyMTMxODk2OTU@._V1_UY67_CR0,0,45,67_AL_.jpg', 'link': 'https://imdb.com/title/tt0111161/?pf_rd_m=A2FGELUUNOQJNL&pf_rd_p=1a264172-ae11-42e4-8ef7-7fed1973bb8f&pf_rd_r=VZEYAR8ZVPNKZ9V7MV87&pf_rd_s=center-1&pf_rd_t=15506&pf_rd_i=top&ref_=chttp_tt_1'}\n"
     ]
    }
   ],
   "source": [
    "#1. \n",
    "\n",
    "first_movie = movies[0]\n",
    "print(first_movie)"
   ]
  },
  {
   "cell_type": "code",
   "execution_count": 4,
   "metadata": {},
   "outputs": [
    {
     "data": {
      "text/plain": [
       "dict"
      ]
     },
     "execution_count": 4,
     "metadata": {},
     "output_type": "execute_result"
    }
   ],
   "source": [
    "#2.\n",
    "\n",
    "type(first_movie)"
   ]
  },
  {
   "cell_type": "markdown",
   "metadata": {},
   "source": [
    "#### Task 3\n"
   ]
  },
  {
   "cell_type": "markdown",
   "metadata": {},
   "source": [
    "\n",
    "Index the dictionary to select the link key and print its value. Where does the link take you?\n",
    "\n",
    "What are the last 10 characters of that link?"
   ]
  },
  {
   "cell_type": "code",
   "execution_count": 5,
   "metadata": {},
   "outputs": [
    {
     "name": "stdout",
     "output_type": "stream",
     "text": [
      "https://imdb.com/title/tt0111161/?pf_rd_m=A2FGELUUNOQJNL&pf_rd_p=1a264172-ae11-42e4-8ef7-7fed1973bb8f&pf_rd_r=VZEYAR8ZVPNKZ9V7MV87&pf_rd_s=center-1&pf_rd_t=15506&pf_rd_i=top&ref_=chttp_tt_1\n"
     ]
    }
   ],
   "source": [
    "first_movie_url = first_movie['link']\n",
    "print(first_movie_url)"
   ]
  },
  {
   "cell_type": "code",
   "execution_count": 6,
   "metadata": {},
   "outputs": [
    {
     "name": "stdout",
     "output_type": "stream",
     "text": [
      "chttp_tt_1\n"
     ]
    }
   ],
   "source": [
    "first_movie_url_last_10 = first_movie['link'][-10:]\n",
    "print(first_movie_url_last_10\n",
    ")"
   ]
  },
  {
   "cell_type": "markdown",
   "metadata": {},
   "source": [
    "## Milestone 2: Explore the Data\n"
   ]
  },
  {
   "cell_type": "markdown",
   "metadata": {},
   "source": [
    "#### Task 1"
   ]
  },
  {
   "cell_type": "markdown",
   "metadata": {},
   "source": [
    "Display all the movies' titles\n",
    "\n",
    "Define a function called print_every_movie_title that goes through the list of movies and prints each of their title, one by one. The function should not return anything"
   ]
  },
  {
   "cell_type": "code",
   "execution_count": 7,
   "metadata": {},
   "outputs": [],
   "source": [
    "def print_every_movie_title(movies):\n",
    "    for movie in movies: \n",
    "        title = movie['title']\n",
    "        print(title)\n"
   ]
  },
  {
   "cell_type": "code",
   "execution_count": 8,
   "metadata": {},
   "outputs": [
    {
     "name": "stdout",
     "output_type": "stream",
     "text": [
      "The Shawshank Redemption\n",
      "The Godfather\n",
      "The Dark Knight\n",
      "The Godfather: Part II\n",
      "12 Angry Men\n"
     ]
    }
   ],
   "source": [
    "print_every_movie_title(movies)"
   ]
  },
  {
   "cell_type": "markdown",
   "metadata": {},
   "source": [
    "#### Task 2 "
   ]
  },
  {
   "cell_type": "markdown",
   "metadata": {},
   "source": [
    "What is the length of a given movie's description?\n",
    "\n",
    "Define a function called get_movie_description_length that takes in one of the movies from the list of movies. You should pass the entire dictionary from the relevant entry in the list of movies as an input argument to the function. The function should then return the exact number of characters in its description, formatted as an integer.\n",
    "\n",
    "Test the function you have defined by using it to check the description of the the first entry in the movies list (i.e. movies[0])."
   ]
  },
  {
   "cell_type": "code",
   "execution_count": 9,
   "metadata": {},
   "outputs": [
    {
     "name": "stdout",
     "output_type": "stream",
     "text": [
      "Two imprisoned men bond over a number of years, finding solace and eventual redemption through acts of common decency.\n",
      "118\n"
     ]
    }
   ],
   "source": [
    "#Ensuring that the arguments that I will place into the function will work how I expect it to\n",
    "first_movie_description = movies[0]['description']\n",
    "length_of_first = len(first_movie_description)\n",
    "print(first_movie_description)\n",
    "print(length_of_first)"
   ]
  },
  {
   "cell_type": "code",
   "execution_count": 10,
   "metadata": {},
   "outputs": [],
   "source": [
    "#Inserting it into the function\n",
    "def get_movie_description_length(movie):\n",
    "    movie_description = movie['description']\n",
    "    length_of_movie_description=len(movie_description)\n",
    "    return(length_of_movie_description)"
   ]
  },
  {
   "cell_type": "code",
   "execution_count": 11,
   "metadata": {},
   "outputs": [
    {
     "name": "stdout",
     "output_type": "stream",
     "text": [
      "The Shawshank Redemption has a description length of: 118\n",
      "The Godfather has a description length of: 149\n",
      "The Dark Knight has a description length of: 189\n",
      "The Godfather: Part II has a description length of: 164\n",
      "12 Angry Men has a description length of: 184\n"
     ]
    }
   ],
   "source": [
    "#Trialling with all the movies i.e. 0-4\n",
    "print(f'{movies[0]['title']} has a description length of: {get_movie_description_length(movies[0])}')\n",
    "print(f'{movies[1]['title']} has a description length of: {get_movie_description_length(movies[1])}')\n",
    "print(f'{movies[2]['title']} has a description length of: {get_movie_description_length(movies[2])}')\n",
    "print(f'{movies[3]['title']} has a description length of: {get_movie_description_length(movies[3])}')\n",
    "print(f'{movies[4]['title']} has a description length of: {get_movie_description_length(movies[4])}')\n"
   ]
  },
  {
   "cell_type": "markdown",
   "metadata": {},
   "source": [
    "#### Task 3"
   ]
  },
  {
   "cell_type": "markdown",
   "metadata": {},
   "source": [
    "What is the average length of any movie description?\n",
    "\n",
    "Define a function called get_avg_movie_description_length that returns the average number of characters in each movie description, averaged across the whole dataset.\n",
    "\n",
    "The function should return a floating point number, rounded to 1 decimal place.\n",
    "\n",
    "To avoid repeating code, make sure that you use the function you defined earlier for getting the movie description length inside this function."
   ]
  },
  {
   "cell_type": "code",
   "execution_count": 12,
   "metadata": {},
   "outputs": [],
   "source": [
    "def get_avg_description_length(movies):\n",
    "    total_length = 0\n",
    "    for movie in movies: \n",
    "        length = get_movie_description_length(movie) #Calling on the function previously defined as to not repeat code.\n",
    "        total_length += length\n",
    "    \n",
    "    avg_length = total_length/len(movies)\n",
    "    return(avg_length)"
   ]
  },
  {
   "cell_type": "code",
   "execution_count": 13,
   "metadata": {},
   "outputs": [
    {
     "name": "stdout",
     "output_type": "stream",
     "text": [
      "160.8\n"
     ]
    }
   ],
   "source": [
    "print(get_avg_description_length(movies))"
   ]
  },
  {
   "cell_type": "markdown",
   "metadata": {},
   "source": [
    "#### Task 4"
   ]
  },
  {
   "cell_type": "markdown",
   "metadata": {},
   "source": [
    "What is the maximum length of any movie name? - \n",
    "Define a function called get_max_movie_name_length.\n",
    "\n",
    "It should return two things, in this order:\n",
    "\n",
    "1. The integer number of the length of the longest movie name\n",
    "2. The name of the movie"
   ]
  },
  {
   "cell_type": "code",
   "execution_count": 14,
   "metadata": {},
   "outputs": [],
   "source": [
    "def get_max_movie_name_length(movies):\n",
    "    max_length = 0\n",
    "    movie_with_max_title = ''\n",
    "    for movie in movies:\n",
    "        title = movie['title']\n",
    "        if len(title) > max_length:\n",
    "            max_length = len(title)\n",
    "            movie_with_max_title = title\n",
    "    return max_length, movie_with_max_title\n"
   ]
  },
  {
   "cell_type": "code",
   "execution_count": 15,
   "metadata": {},
   "outputs": [
    {
     "name": "stdout",
     "output_type": "stream",
     "text": [
      "(24, 'The Shawshank Redemption')\n"
     ]
    }
   ],
   "source": [
    "print(get_max_movie_name_length(movies))"
   ]
  },
  {
   "cell_type": "markdown",
   "metadata": {},
   "source": []
  },
  {
   "cell_type": "markdown",
   "metadata": {},
   "source": [
    "## Milestone 3: Create some functions for the Movie Assistant"
   ]
  },
  {
   "cell_type": "markdown",
   "metadata": {},
   "source": [
    "#### Task 1"
   ]
  },
  {
   "cell_type": "markdown",
   "metadata": {},
   "source": [
    "Load in the full movies dataset from a file\n",
    "\n",
    "So far, the movies variable was initialised for you, but in this task, the list of movies is larger and are stored in a JSON (JavaScript Object Notation) file. The file is saved as *'Full-Movie-Recommendations.json'*\n",
    "\n",
    "Using a context manager, you will open the file movies.json and load the data from this file into a variable called movies.\n",
    "\n",
    "Put this inside a function named load_movies_data which takes no parameters and returns the list of movies, each as a dictionary."
   ]
  },
  {
   "cell_type": "code",
   "execution_count": 16,
   "metadata": {},
   "outputs": [],
   "source": [
    "import json\n",
    "\n",
    "def load_movies_data():\n",
    "    with open('Full-Movie-Recommendations.json','r') as f:\n",
    "        full_movies=json.load(f)\n",
    "    return full_movies\n",
    "    "
   ]
  },
  {
   "cell_type": "code",
   "execution_count": 17,
   "metadata": {},
   "outputs": [],
   "source": [
    "full_movies = load_movies_data()"
   ]
  },
  {
   "cell_type": "code",
   "execution_count": 18,
   "metadata": {},
   "outputs": [
    {
     "name": "stdout",
     "output_type": "stream",
     "text": [
      "<class 'list'>\n"
     ]
    }
   ],
   "source": [
    "print(type(full_movies))"
   ]
  },
  {
   "cell_type": "markdown",
   "metadata": {},
   "source": [
    "#### Task 2"
   ]
  },
  {
   "cell_type": "markdown",
   "metadata": {},
   "source": [
    "What are the unique genres?\n",
    "\n",
    "Define a function called get_unique_genres that returns a set of unique genres. The function should return a set, not a list."
   ]
  },
  {
   "cell_type": "code",
   "execution_count": 19,
   "metadata": {},
   "outputs": [],
   "source": [
    "def get_unique_genres(full_movies):\n",
    "    genre = [d['genre'] for d in full_movies]\n",
    "    unique_list = set(genre)\n",
    "    return(unique_list)"
   ]
  },
  {
   "cell_type": "code",
   "execution_count": 20,
   "metadata": {},
   "outputs": [
    {
     "name": "stdout",
     "output_type": "stream",
     "text": [
      "{'Animation', 'Horror', 'Adventure', 'Action', 'Film-Noir', 'Drama', 'Comedy', 'Mystery', 'Western', 'Biography', 'Crime'}\n"
     ]
    }
   ],
   "source": [
    "print(get_unique_genres(full_movies))"
   ]
  },
  {
   "cell_type": "markdown",
   "metadata": {},
   "source": [
    "#### Task 3"
   ]
  },
  {
   "cell_type": "markdown",
   "metadata": {},
   "source": [
    "Filter by Genre\n",
    "\n",
    "Define a function called get_movies_in_genre which returns a list of only movies in that genre. The function should take in a genre as a string.\n",
    "\n",
    "The movies should be returned in their usual dictionary format."
   ]
  },
  {
   "cell_type": "code",
   "execution_count": 38,
   "metadata": {},
   "outputs": [],
   "source": [
    "def get_movies_in_genre(genre, full_movies):\n",
    "    list_of_movies = []\n",
    "    for movie in full_movies:\n",
    "        if genre == movie['genre']:\n",
    "            list_of_movies.append(movie)\n",
    "    return list_of_movies"
   ]
  },
  {
   "cell_type": "code",
   "execution_count": 39,
   "metadata": {},
   "outputs": [
    {
     "name": "stdout",
     "output_type": "stream",
     "text": [
      "[{'title': 'The Godfather', 'description': 'The aging patriarch of an organized crime dynasty in postwar New York City transfers control of his clandestine empire to his reluctant youngest son.', 'genre': 'Crime', 'image_url': 'https://m.media-amazon.com/images/M/MV5BM2MyNjYxNmUtYTAwNi00MTYxLWJmNWYtYzZlODY3ZTk3OTFlXkEyXkFqcGdeQXVyNzkwMjQ5NzM@._V1_UY67_CR1,0,45,67_AL_.jpg', 'link': 'https://imdb.com/title/tt0068646/?pf_rd_m=A2FGELUUNOQJNL&pf_rd_p=1a264172-ae11-42e4-8ef7-7fed1973bb8f&pf_rd_r=VZEYAR8ZVPNKZ9V7MV87&pf_rd_s=center-1&pf_rd_t=15506&pf_rd_i=top&ref_=chttp_tt_2'}, {'title': 'The Godfather: Part II', 'description': 'The early life and career of Vito Corleone in 1920s New York City is portrayed, while his son, Michael, expands and tightens his grip on the family crime syndicate.', 'genre': 'Crime', 'image_url': 'https://m.media-amazon.com/images/M/MV5BMWMwMGQzZTItY2JlNC00OWZiLWIyMDctNDk2ZDQ2YjRjMWQ0XkEyXkFqcGdeQXVyNzkwMjQ5NzM@._V1_UY67_CR1,0,45,67_AL_.jpg', 'link': 'https://imdb.com/title/tt0071562/?pf_rd_m=A2FGELUUNOQJNL&pf_rd_p=1a264172-ae11-42e4-8ef7-7fed1973bb8f&pf_rd_r=VZEYAR8ZVPNKZ9V7MV87&pf_rd_s=center-1&pf_rd_t=15506&pf_rd_i=top&ref_=chttp_tt_4'}, {'title': '12 Angry Men', 'description': 'The jury in a New York City murder trial is frustrated by a single member whose skeptical caution forces them to more carefully consider the evidence before jumping to a hasty verdict.', 'genre': 'Crime', 'image_url': 'https://m.media-amazon.com/images/M/MV5BMWU4N2FjNzYtNTVkNC00NzQ0LTg0MjAtYTJlMjFhNGUxZDFmXkEyXkFqcGdeQXVyNjc1NTYyMjg@._V1_UX45_CR0,0,45,67_AL_.jpg', 'link': 'https://imdb.com/title/tt0050083/?pf_rd_m=A2FGELUUNOQJNL&pf_rd_p=1a264172-ae11-42e4-8ef7-7fed1973bb8f&pf_rd_r=VZEYAR8ZVPNKZ9V7MV87&pf_rd_s=center-1&pf_rd_t=15506&pf_rd_i=top&ref_=chttp_tt_5'}, {'title': 'Pulp Fiction', 'description': 'The lives of two mob hitmen, a boxer, a gangster and his wife, and a pair of diner bandits intertwine in four tales of violence and redemption.', 'genre': 'Crime', 'image_url': 'https://m.media-amazon.com/images/M/MV5BNGNhMDIzZTUtNTBlZi00MTRlLWFjM2ItYzViMjE3YzI5MjljXkEyXkFqcGdeQXVyNzkwMjQ5NzM@._V1_UY67_CR0,0,45,67_AL_.jpg', 'link': 'https://imdb.com/title/tt0110912/?pf_rd_m=A2FGELUUNOQJNL&pf_rd_p=1a264172-ae11-42e4-8ef7-7fed1973bb8f&pf_rd_r=VZEYAR8ZVPNKZ9V7MV87&pf_rd_s=center-1&pf_rd_t=15506&pf_rd_i=top&ref_=chttp_tt_8'}, {'title': 'Seven', 'description': 'Two detectives, a rookie and a veteran, hunt a serial killer who uses the seven deadly sins as his motives.', 'genre': 'Crime', 'image_url': 'https://m.media-amazon.com/images/M/MV5BOTUwODM5MTctZjczMi00OTk4LTg3NWUtNmVhMTAzNTNjYjcyXkEyXkFqcGdeQXVyNjU0OTQ0OTY@._V1_UX45_CR0,0,45,67_AL_.jpg', 'link': 'https://imdb.com/title/tt0114369/?pf_rd_m=A2FGELUUNOQJNL&pf_rd_p=1a264172-ae11-42e4-8ef7-7fed1973bb8f&pf_rd_r=VZEYAR8ZVPNKZ9V7MV87&pf_rd_s=center-1&pf_rd_t=15506&pf_rd_i=top&ref_=chttp_tt_19'}, {'title': 'The Silence of the Lambs', 'description': 'A young F.B.I. cadet must receive the help of an incarcerated and manipulative cannibal killer to help catch another serial killer, a madman who skins his victims.', 'genre': 'Crime', 'image_url': 'https://m.media-amazon.com/images/M/MV5BNjNhZTk0ZmEtNjJhMi00YzFlLWE1MmEtYzM1M2ZmMGMwMTU4XkEyXkFqcGdeQXVyNjU0OTQ0OTY@._V1_UY67_CR0,0,45,67_AL_.jpg', 'link': 'https://imdb.com/title/tt0102926/?pf_rd_m=A2FGELUUNOQJNL&pf_rd_p=1a264172-ae11-42e4-8ef7-7fed1973bb8f&pf_rd_r=VZEYAR8ZVPNKZ9V7MV87&pf_rd_s=center-1&pf_rd_t=15506&pf_rd_i=top&ref_=chttp_tt_22'}, {'title': 'City of God', 'description': \"In the slums of Rio, two kids' paths diverge as one struggles to become a photographer and the other a kingpin.\", 'genre': 'Crime', 'image_url': 'https://m.media-amazon.com/images/M/MV5BOTMwYjc5ZmItYTFjZC00ZGQ3LTlkNTMtMjZiNTZlMWQzNzI5XkEyXkFqcGdeQXVyNzkwMjQ5NzM@._V1_UX45_CR0,0,45,67_AL_.jpg', 'link': 'https://imdb.com/title/tt0317248/?pf_rd_m=A2FGELUUNOQJNL&pf_rd_p=1a264172-ae11-42e4-8ef7-7fed1973bb8f&pf_rd_r=VZEYAR8ZVPNKZ9V7MV87&pf_rd_s=center-1&pf_rd_t=15506&pf_rd_i=top&ref_=chttp_tt_23'}, {'title': 'The Green Mile', 'description': 'The lives of guards on Death Row are affected by one of their charges: a black man accused of child murder and rape, yet who has a mysterious gift.', 'genre': 'Crime', 'image_url': 'https://m.media-amazon.com/images/M/MV5BMTUxMzQyNjA5MF5BMl5BanBnXkFtZTYwOTU2NTY3._V1_UY67_CR0,0,45,67_AL_.jpg', 'link': 'https://imdb.com/title/tt0120689/?pf_rd_m=A2FGELUUNOQJNL&pf_rd_p=1a264172-ae11-42e4-8ef7-7fed1973bb8f&pf_rd_r=VZEYAR8ZVPNKZ9V7MV87&pf_rd_s=center-1&pf_rd_t=15506&pf_rd_i=top&ref_=chttp_tt_27'}, {'title': 'American History X', 'description': 'A former neo-nazi skinhead tries to prevent his younger brother from going down the same wrong path that he did.', 'genre': 'Crime', 'image_url': 'https://m.media-amazon.com/images/M/MV5BZTJhN2FkYWEtMGI0My00YWM4LWI2MjAtM2UwNjY4MTI2ZTQyXkEyXkFqcGdeQXVyNjc3MjQzNTI@._V1_UY67_CR0,0,45,67_AL_.jpg', 'link': 'https://imdb.com/title/tt0120586/?pf_rd_m=A2FGELUUNOQJNL&pf_rd_p=1a264172-ae11-42e4-8ef7-7fed1973bb8f&pf_rd_r=VZEYAR8ZVPNKZ9V7MV87&pf_rd_s=center-1&pf_rd_t=15506&pf_rd_i=top&ref_=chttp_tt_38'}, {'title': 'The Departed', 'description': 'An undercover cop and a mole in the police attempt to identify each other while infiltrating an Irish gang in South Boston.', 'genre': 'Crime', 'image_url': 'https://m.media-amazon.com/images/M/MV5BMTI1MTY2OTIxNV5BMl5BanBnXkFtZTYwNjQ4NjY3._V1_UY67_CR0,0,45,67_AL_.jpg', 'link': 'https://imdb.com/title/tt0407887/?pf_rd_m=A2FGELUUNOQJNL&pf_rd_p=1a264172-ae11-42e4-8ef7-7fed1973bb8f&pf_rd_r=VZEYAR8ZVPNKZ9V7MV87&pf_rd_s=center-1&pf_rd_t=15506&pf_rd_i=top&ref_=chttp_tt_39'}, {'title': 'The Usual Suspects', 'description': 'A sole survivor tells of the twisty events leading up to a horrific gun battle on a boat, which began when five criminals met at a seemingly random police lineup.', 'genre': 'Crime', 'image_url': 'https://m.media-amazon.com/images/M/MV5BYTViNjMyNmUtNDFkNC00ZDRlLThmMDUtZDU2YWE4NGI2ZjVmXkEyXkFqcGdeQXVyNjU0OTQ0OTY@._V1_UX45_CR0,0,45,67_AL_.jpg', 'link': 'https://imdb.com/title/tt0114814/?pf_rd_m=A2FGELUUNOQJNL&pf_rd_p=1a264172-ae11-42e4-8ef7-7fed1973bb8f&pf_rd_r=VZEYAR8ZVPNKZ9V7MV87&pf_rd_s=center-1&pf_rd_t=15506&pf_rd_i=top&ref_=chttp_tt_40'}, {'title': 'Witness for the Prosecution', 'description': 'A veteran British barrister must defend his client in a murder trial that has surprise after surprise.', 'genre': 'Crime', 'image_url': 'https://m.media-amazon.com/images/M/MV5BNDQwODU5OWYtNDcyNi00MDQ1LThiOGMtZDkwNWJiM2Y3MDg0XkEyXkFqcGdeQXVyMDI2NDg0NQ@@._V1_UX45_CR0,0,45,67_AL_.jpg', 'link': 'https://imdb.com/title/tt0051201/?pf_rd_m=A2FGELUUNOQJNL&pf_rd_p=1a264172-ae11-42e4-8ef7-7fed1973bb8f&pf_rd_r=VZEYAR8ZVPNKZ9V7MV87&pf_rd_s=center-1&pf_rd_t=15506&pf_rd_i=top&ref_=chttp_tt_63'}, {'title': 'Joker', 'description': 'A mentally troubled stand-up comedian embarks on a downward spiral that leads to the creation of an iconic villain.', 'genre': 'Crime', 'image_url': 'https://m.media-amazon.com/images/M/MV5BNGVjNWI4ZGUtNzE0MS00YTJmLWE0ZDctN2ZiYTk2YmI3NTYyXkEyXkFqcGdeQXVyMTkxNjUyNQ@@._V1_UY67_CR0,0,45,67_AL_.jpg', 'link': 'https://imdb.com/title/tt7286456/?pf_rd_m=A2FGELUUNOQJNL&pf_rd_p=1a264172-ae11-42e4-8ef7-7fed1973bb8f&pf_rd_r=VZEYAR8ZVPNKZ9V7MV87&pf_rd_s=center-1&pf_rd_t=15506&pf_rd_i=top&ref_=chttp_tt_71'}, {'title': 'Once Upon a Time in America', 'description': 'A former Prohibition-era Jewish gangster returns to the Lower East Side of Manhattan 35 years later, where he must once again confront the ghosts and regrets of his old life.', 'genre': 'Crime', 'image_url': 'https://m.media-amazon.com/images/M/MV5BMGFkNWI4MTMtNGQ0OC00MWVmLTk3MTktOGYxN2Y2YWVkZWE2XkEyXkFqcGdeQXVyNjU0OTQ0OTY@._V1_UX45_CR0,0,45,67_AL_.jpg', 'link': 'https://imdb.com/title/tt0087843/?pf_rd_m=A2FGELUUNOQJNL&pf_rd_p=1a264172-ae11-42e4-8ef7-7fed1973bb8f&pf_rd_r=VZEYAR8ZVPNKZ9V7MV87&pf_rd_s=center-1&pf_rd_t=15506&pf_rd_i=top&ref_=chttp_tt_81'}, {'title': 'High and Low', 'description': \"An executive of a Yokohama shoe company becomes a victim of extortion when his chauffeur's son is kidnapped by mistake and held for ransom.\", 'genre': 'Crime', 'image_url': 'https://m.media-amazon.com/images/M/MV5BZGQ1NWZlYjctNDJmOS00MmU2LTg1ODItNmZiM2ZkNzJhNDI0XkEyXkFqcGdeQXVyNjc1NTYyMjg@._V1_UY67_CR1,0,45,67_AL_.jpg', 'link': 'https://imdb.com/title/tt0057565/?pf_rd_m=A2FGELUUNOQJNL&pf_rd_p=1a264172-ae11-42e4-8ef7-7fed1973bb8f&pf_rd_r=VZEYAR8ZVPNKZ9V7MV87&pf_rd_s=center-1&pf_rd_t=15506&pf_rd_i=top&ref_=chttp_tt_88'}, {'title': 'Reservoir Dogs', 'description': 'When a simple jewelry heist goes horribly wrong, the surviving criminals begin to suspect that one of them is a police informant.', 'genre': 'Crime', 'image_url': 'https://m.media-amazon.com/images/M/MV5BZmExNmEwYWItYmQzOS00YjA5LTk2MjktZjEyZDE1Y2QxNjA1XkEyXkFqcGdeQXVyMTQxNzMzNDI@._V1_UX45_CR0,0,45,67_AL_.jpg', 'link': 'https://imdb.com/title/tt0105236/?pf_rd_m=A2FGELUUNOQJNL&pf_rd_p=1a264172-ae11-42e4-8ef7-7fed1973bb8f&pf_rd_r=VZEYAR8ZVPNKZ9V7MV87&pf_rd_s=center-1&pf_rd_t=15506&pf_rd_i=top&ref_=chttp_tt_92'}, {'title': 'M', 'description': 'When the police in a German city are unable to catch a child-murderer, other criminals join in the manhunt.', 'genre': 'Crime', 'image_url': 'https://m.media-amazon.com/images/M/MV5BODA4ODk3OTEzMF5BMl5BanBnXkFtZTgwMTQ2ODMwMzE@._V1_UX45_CR0,0,45,67_AL_.jpg', 'link': 'https://imdb.com/title/tt0022100/?pf_rd_m=A2FGELUUNOQJNL&pf_rd_p=1a264172-ae11-42e4-8ef7-7fed1973bb8f&pf_rd_r=VZEYAR8ZVPNKZ9V7MV87&pf_rd_s=center-1&pf_rd_t=15506&pf_rd_i=top&ref_=chttp_tt_97'}, {'title': 'A Clockwork Orange', 'description': \"In the future, a sadistic gang leader is imprisoned and volunteers for a conduct-aversion experiment, but it doesn't go as planned.\", 'genre': 'Crime', 'image_url': 'https://m.media-amazon.com/images/M/MV5BMTY3MjM1Mzc4N15BMl5BanBnXkFtZTgwODM0NzAxMDE@._V1_UY67_CR0,0,45,67_AL_.jpg', 'link': 'https://imdb.com/title/tt0066921/?pf_rd_m=A2FGELUUNOQJNL&pf_rd_p=1a264172-ae11-42e4-8ef7-7fed1973bb8f&pf_rd_r=VZEYAR8ZVPNKZ9V7MV87&pf_rd_s=center-1&pf_rd_t=15506&pf_rd_i=top&ref_=chttp_tt_102'}, {'title': 'Double Indemnity', 'description': 'A Los Angeles insurance representative lets an alluring housewife seduce him into a scheme of insurance fraud and murder that arouses the suspicion of his colleague, an insurance investigator.', 'genre': 'Crime', 'image_url': 'https://m.media-amazon.com/images/M/MV5BOTdlNjgyZGUtOTczYi00MDdhLTljZmMtYTEwZmRiOWFkYjRhXkEyXkFqcGdeQXVyNDY2MTk1ODk@._V1_UX45_CR0,0,45,67_AL_.jpg', 'link': 'https://imdb.com/title/tt0036775/?pf_rd_m=A2FGELUUNOQJNL&pf_rd_p=1a264172-ae11-42e4-8ef7-7fed1973bb8f&pf_rd_r=VZEYAR8ZVPNKZ9V7MV87&pf_rd_s=center-1&pf_rd_t=15506&pf_rd_i=top&ref_=chttp_tt_104'}, {'title': 'Scarface', 'description': 'In 1980 Miami, a determined Cuban immigrant takes over a drug cartel and succumbs to greed.', 'genre': 'Crime', 'image_url': 'https://m.media-amazon.com/images/M/MV5BNjdjNGQ4NDEtNTEwYS00MTgxLTliYzQtYzE2ZDRiZjFhZmNlXkEyXkFqcGdeQXVyNjU0OTQ0OTY@._V1_UX45_CR0,0,45,67_AL_.jpg', 'link': 'https://imdb.com/title/tt0086250/?pf_rd_m=A2FGELUUNOQJNL&pf_rd_p=1a264172-ae11-42e4-8ef7-7fed1973bb8f&pf_rd_r=VZEYAR8ZVPNKZ9V7MV87&pf_rd_s=center-1&pf_rd_t=15506&pf_rd_i=top&ref_=chttp_tt_107'}, {'title': 'To Kill a Mockingbird', 'description': 'Atticus Finch, a widowed lawyer in Depression-era Alabama, defends a black man against an undeserved rape charge, and his children against prejudice.', 'genre': 'Crime', 'image_url': 'https://m.media-amazon.com/images/M/MV5BNmVmYzcwNzMtMWM1NS00MWIyLThlMDEtYzUwZDgzODE1NmE2XkEyXkFqcGdeQXVyNzkwMjQ5NzM@._V1_UX45_CR0,0,45,67_AL_.jpg', 'link': 'https://imdb.com/title/tt0056592/?pf_rd_m=A2FGELUUNOQJNL&pf_rd_p=1a264172-ae11-42e4-8ef7-7fed1973bb8f&pf_rd_r=VZEYAR8ZVPNKZ9V7MV87&pf_rd_s=center-1&pf_rd_t=15506&pf_rd_i=top&ref_=chttp_tt_110'}, {'title': 'Taxi Driver', 'description': 'A mentally unstable veteran works as a nighttime taxi driver in New York City, where the perceived decadence and sleaze fuels his urge for violent action.', 'genre': 'Crime', 'image_url': 'https://m.media-amazon.com/images/M/MV5BM2M1MmVhNDgtNmI0YS00ZDNmLTkyNjctNTJiYTQ2N2NmYzc2XkEyXkFqcGdeQXVyNzkwMjQ5NzM@._V1_UX45_CR0,0,45,67_AL_.jpg', 'link': 'https://imdb.com/title/tt0075314/?pf_rd_m=A2FGELUUNOQJNL&pf_rd_p=1a264172-ae11-42e4-8ef7-7fed1973bb8f&pf_rd_r=VZEYAR8ZVPNKZ9V7MV87&pf_rd_s=center-1&pf_rd_t=15506&pf_rd_i=top&ref_=chttp_tt_113'}, {'title': 'L.A. Confidential', 'description': 'As corruption grows in 1950s Los Angeles, three policemen - one strait-laced, one brutal, and one sleazy - investigate a series of murders with their own brand of justice.', 'genre': 'Crime', 'image_url': 'https://m.media-amazon.com/images/M/MV5BMDQ2YzEyZGItYWRhOS00MjBmLTkzMDUtMTdjYzkyMmQxZTJlXkEyXkFqcGdeQXVyNjU0OTQ0OTY@._V1_UY67_CR0,0,45,67_AL_.jpg', 'link': 'https://imdb.com/title/tt0119488/?pf_rd_m=A2FGELUUNOQJNL&pf_rd_p=1a264172-ae11-42e4-8ef7-7fed1973bb8f&pf_rd_r=VZEYAR8ZVPNKZ9V7MV87&pf_rd_s=center-1&pf_rd_t=15506&pf_rd_i=top&ref_=chttp_tt_117'}, {'title': 'Casino', 'description': 'A tale of greed, deception, money, power, and murder occur between two best friends: a mafia enforcer and a casino executive compete against each other over a gambling empire, and over a fast-living and fast-loving socialite.', 'genre': 'Crime', 'image_url': 'https://m.media-amazon.com/images/M/MV5BMTcxOWYzNDYtYmM4YS00N2NkLTk0NTAtNjg1ODgwZjAxYzI3XkEyXkFqcGdeQXVyNTA4NzY1MzY@._V1_UX45_CR0,0,45,67_AL_.jpg', 'link': 'https://imdb.com/title/tt0112641/?pf_rd_m=A2FGELUUNOQJNL&pf_rd_p=1a264172-ae11-42e4-8ef7-7fed1973bb8f&pf_rd_r=VZEYAR8ZVPNKZ9V7MV87&pf_rd_s=center-1&pf_rd_t=15506&pf_rd_i=top&ref_=chttp_tt_136'}, {'title': 'Rashomon', 'description': \"The rape of a bride and the murder of her samurai husband are recalled from the perspectives of a bandit, the bride, the samurai's ghost and a woodcutter.\", 'genre': 'Crime', 'image_url': 'https://m.media-amazon.com/images/M/MV5BMjEzMzA4NDE2OF5BMl5BanBnXkFtZTcwNTc5MDI2NQ@@._V1_UY67_CR0,0,45,67_AL_.jpg', 'link': 'https://imdb.com/title/tt0042876/?pf_rd_m=A2FGELUUNOQJNL&pf_rd_p=1a264172-ae11-42e4-8ef7-7fed1973bb8f&pf_rd_r=VZEYAR8ZVPNKZ9V7MV87&pf_rd_s=center-1&pf_rd_t=15506&pf_rd_i=top&ref_=chttp_tt_149'}, {'title': 'No Country for Old Men', 'description': 'Violence and mayhem ensue after a hunter stumbles upon a drug deal gone wrong and more than two million dollars in cash near the Rio Grande.', 'genre': 'Crime', 'image_url': 'https://m.media-amazon.com/images/M/MV5BMjA5Njk3MjM4OV5BMl5BanBnXkFtZTcwMTc5MTE1MQ@@._V1_UY67_CR0,0,45,67_AL_.jpg', 'link': 'https://imdb.com/title/tt0477348/?pf_rd_m=A2FGELUUNOQJNL&pf_rd_p=1a264172-ae11-42e4-8ef7-7fed1973bb8f&pf_rd_r=VZEYAR8ZVPNKZ9V7MV87&pf_rd_s=center-1&pf_rd_t=15506&pf_rd_i=top&ref_=chttp_tt_152'}, {'title': 'Dial M for Murder', 'description': 'A former tennis star arranges the murder of his adulterous wife.', 'genre': 'Crime', 'image_url': 'https://m.media-amazon.com/images/M/MV5BOWIwODIxYWItZDI4MS00YzhhLWE3MmYtMzlhZDIwOTMzZmE5L2ltYWdlXkEyXkFqcGdeQXVyNjc1NTYyMjg@._V1_UX45_CR0,0,45,67_AL_.jpg', 'link': 'https://imdb.com/title/tt0046912/?pf_rd_m=A2FGELUUNOQJNL&pf_rd_p=1a264172-ae11-42e4-8ef7-7fed1973bb8f&pf_rd_r=VZEYAR8ZVPNKZ9V7MV87&pf_rd_s=center-1&pf_rd_t=15506&pf_rd_i=top&ref_=chttp_tt_162'}, {'title': 'Fargo', 'description': \"Minnesota car salesman Jerry Lundegaard's inept crime falls apart due to his and his henchmen's bungling and the persistent police work of the quite pregnant Marge Gunderson.\", 'genre': 'Crime', 'image_url': 'https://m.media-amazon.com/images/M/MV5BNDJiZDgyZjctYmRjMS00ZjdkLTkwMTEtNGU1NDg3NDQ0Yzk1XkEyXkFqcGdeQXVyNzkwMjQ5NzM@._V1_UY67_CR0,0,45,67_AL_.jpg', 'link': 'https://imdb.com/title/tt0116282/?pf_rd_m=A2FGELUUNOQJNL&pf_rd_p=1a264172-ae11-42e4-8ef7-7fed1973bb8f&pf_rd_r=VZEYAR8ZVPNKZ9V7MV87&pf_rd_s=center-1&pf_rd_t=15506&pf_rd_i=top&ref_=chttp_tt_170'}, {'title': 'Prisoners', 'description': \"When Keller Dover's daughter and her friend go missing, he takes matters into his own hands as the police pursue multiple leads and the pressure mounts.\", 'genre': 'Crime', 'image_url': 'https://m.media-amazon.com/images/M/MV5BMTg0NTIzMjQ1NV5BMl5BanBnXkFtZTcwNDc3MzM5OQ@@._V1_UY67_CR0,0,45,67_AL_.jpg', 'link': 'https://imdb.com/title/tt1392214/?pf_rd_m=A2FGELUUNOQJNL&pf_rd_p=1a264172-ae11-42e4-8ef7-7fed1973bb8f&pf_rd_r=VZEYAR8ZVPNKZ9V7MV87&pf_rd_s=center-1&pf_rd_t=15506&pf_rd_i=top&ref_=chttp_tt_171'}, {'title': 'On the Waterfront', 'description': \"An ex-prize fighter turned New Jersey longshoreman struggles to stand up to his corrupt union bosses, including his older brother, as he starts to connect with the grieving sister of one of the syndicate's victims.\", 'genre': 'Crime', 'image_url': 'https://m.media-amazon.com/images/M/MV5BY2I0MWFiZDMtNWQyYy00Njk5LTk3MDktZjZjNTNmZmVkYjkxXkEyXkFqcGdeQXVyNjc1NTYyMjg@._V1_UX45_CR0,0,45,67_AL_.jpg', 'link': 'https://imdb.com/title/tt0047296/?pf_rd_m=A2FGELUUNOQJNL&pf_rd_p=1a264172-ae11-42e4-8ef7-7fed1973bb8f&pf_rd_r=VZEYAR8ZVPNKZ9V7MV87&pf_rd_s=center-1&pf_rd_t=15506&pf_rd_i=top&ref_=chttp_tt_178'}, {'title': 'Memories of Murder', 'description': 'In a small Korean province in 1986, two detectives struggle with the case of multiple young women being found raped and murdered by an unknown culprit.', 'genre': 'Crime', 'image_url': 'https://m.media-amazon.com/images/M/MV5BOGViNTg4YTktYTQ2Ni00MTU0LTk2NWUtMTI4OTc1YTM0NzQ2XkEyXkFqcGdeQXVyMDM2NDM2MQ@@._V1_UY67_CR0,0,45,67_AL_.jpg', 'link': 'https://imdb.com/title/tt0353969/?pf_rd_m=A2FGELUUNOQJNL&pf_rd_p=1a264172-ae11-42e4-8ef7-7fed1973bb8f&pf_rd_r=VZEYAR8ZVPNKZ9V7MV87&pf_rd_s=center-1&pf_rd_t=15506&pf_rd_i=top&ref_=chttp_tt_194'}, {'title': 'Jai Bhim', 'description': 'When a tribal man is arrested for a case of alleged theft, his wife turns to a human-rights lawyer to help bring justice.', 'genre': 'Crime', 'image_url': 'https://m.media-amazon.com/images/M/MV5BOTM0NWFjNGYtNjExMS00ZTZlLWFiYmMtZmU4ZjZkMmMxZTNjXkEyXkFqcGdeQXVyODEyNjEwMDk@._V1_UY67_CR4,0,45,67_AL_.jpg', 'link': 'https://imdb.com/title/tt15097216/?pf_rd_m=A2FGELUUNOQJNL&pf_rd_p=1a264172-ae11-42e4-8ef7-7fed1973bb8f&pf_rd_r=VZEYAR8ZVPNKZ9V7MV87&pf_rd_s=center-1&pf_rd_t=15506&pf_rd_i=top&ref_=chttp_tt_227'}, {'title': 'La Haine', 'description': '24 hours in the lives of three young men in the French suburbs the day after a violent riot.', 'genre': 'Crime', 'image_url': 'https://m.media-amazon.com/images/M/MV5BOTQxOGU0OWUtMzExYy00ZjIxLWJmMzAtNTI1Y2YxYTMxN2RkXkEyXkFqcGdeQXVyMjUzOTY1NTc@._V1_UY67_CR0,0,45,67_AL_.jpg', 'link': 'https://imdb.com/title/tt0113247/?pf_rd_m=A2FGELUUNOQJNL&pf_rd_p=1a264172-ae11-42e4-8ef7-7fed1973bb8f&pf_rd_r=VZEYAR8ZVPNKZ9V7MV87&pf_rd_s=center-1&pf_rd_t=15506&pf_rd_i=top&ref_=chttp_tt_238'}, {'title': 'Cool Hand Luke', 'description': 'A laid back Southern man is sentenced to two years in a rural prison, but refuses to conform.', 'genre': 'Crime', 'image_url': 'https://m.media-amazon.com/images/M/MV5BNjcwNTQ3Y2EtMjdmZi00ODBhLWFhNzQtOTc3MWU5NTZlMDViXkEyXkFqcGdeQXVyMjUzOTY1NTc@._V1_UX45_CR0,0,45,67_AL_.jpg', 'link': 'https://imdb.com/title/tt0061512/?pf_rd_m=A2FGELUUNOQJNL&pf_rd_p=1a264172-ae11-42e4-8ef7-7fed1973bb8f&pf_rd_r=VZEYAR8ZVPNKZ9V7MV87&pf_rd_s=center-1&pf_rd_t=15506&pf_rd_i=top&ref_=chttp_tt_239'}, {'title': 'The 400 Blows', 'description': 'A young boy, left without attention, delves into a life of petty crime.', 'genre': 'Crime', 'image_url': 'https://m.media-amazon.com/images/M/MV5BYTQ4MjA4NmYtYjRhNi00MTEwLTg0NjgtNjk3ODJlZGU4NjRkL2ltYWdlL2ltYWdlXkEyXkFqcGdeQXVyNjU0OTQ0OTY@._V1_UY67_CR2,0,45,67_AL_.jpg', 'link': 'https://imdb.com/title/tt0053198/?pf_rd_m=A2FGELUUNOQJNL&pf_rd_p=1a264172-ae11-42e4-8ef7-7fed1973bb8f&pf_rd_r=VZEYAR8ZVPNKZ9V7MV87&pf_rd_s=center-1&pf_rd_t=15506&pf_rd_i=top&ref_=chttp_tt_240'}]\n"
     ]
    }
   ],
   "source": [
    "print(get_movies_in_genre((\"Crime\"), full_movies))"
   ]
  },
  {
   "cell_type": "markdown",
   "metadata": {},
   "source": [
    "## Milestone 4: Build the Movie Assistant"
   ]
  },
  {
   "cell_type": "markdown",
   "metadata": {},
   "source": [
    "#### Task 1: "
   ]
  },
  {
   "cell_type": "markdown",
   "metadata": {},
   "source": [
    "Ask the user what genre they are interested in\n",
    "Before you ask a user for their input, print out all of the available options. Get this from your get_unique_genres method defined earlier.\n",
    "\n",
    "Then, take a user input using the input() function and assign it to the variable genre_choice.\n",
    "\n",
    "Put all of this in a function called get_user_genre_choice."
   ]
  },
  {
   "cell_type": "code",
   "execution_count": 30,
   "metadata": {},
   "outputs": [
    {
     "name": "stdout",
     "output_type": "stream",
     "text": [
      "Please pick a genre from the below options\n",
      "{'Animation', 'Horror', 'Adventure', 'Action', 'Film-Noir', 'Drama', 'Comedy', 'Mystery', 'Western', 'Biography', 'Crime'}\n",
      "Genre chosen: Animation\n"
     ]
    },
    {
     "data": {
      "text/plain": [
       "'Animation'"
      ]
     },
     "execution_count": 30,
     "metadata": {},
     "output_type": "execute_result"
    }
   ],
   "source": [
    "def get_user_genre_choice(full_movies):\n",
    "    print(\"Please pick a genre from the below options\")\n",
    "    print(get_unique_genres(full_movies))\n",
    "\n",
    "    genre_choice = input(\"\")\n",
    "    print(f\"Genre chosen: {genre_choice}\")\n",
    "    return genre_choice\n",
    "\n",
    "get_user_genre_choice(full_movies)"
   ]
  },
  {
   "cell_type": "code",
   "execution_count": 40,
   "metadata": {},
   "outputs": [],
   "source": [
    "def get_user_genre_choice(full_movies):\n",
    "    print(\"Please pick a genre from the below options\")\n",
    "    print(get_unique_genres(full_movies))\n",
    "    \n",
    "    genre_choice = input(\"Enter your Genre of choice: \")\n",
    "    list_of_movies = get_movies_in_genre(genre_choice, full_movies)\n",
    "    \n",
    "    return list_of_movies\n"
   ]
  },
  {
   "cell_type": "code",
   "execution_count": 41,
   "metadata": {},
   "outputs": [
    {
     "name": "stdout",
     "output_type": "stream",
     "text": [
      "Please pick a genre from the below options\n",
      "{'Animation', 'Horror', 'Adventure', 'Action', 'Film-Noir', 'Drama', 'Comedy', 'Mystery', 'Western', 'Biography', 'Crime'}\n"
     ]
    },
    {
     "data": {
      "text/plain": [
       "[{'title': 'Psycho',\n",
       "  'description': \"A Phoenix secretary embezzles $40,000 from her employer's client, goes on the run and checks into a remote motel run by a young man under the domination of his mother.\",\n",
       "  'genre': 'Horror',\n",
       "  'image_url': 'https://m.media-amazon.com/images/M/MV5BNTQwNDM1YzItNDAxZC00NWY2LTk0M2UtNDIwNWI5OGUyNWUxXkEyXkFqcGdeQXVyNzkwMjQ5NzM@._V1_UY67_CR0,0,45,67_AL_.jpg',\n",
       "  'link': 'https://imdb.com/title/tt0054215/?pf_rd_m=A2FGELUUNOQJNL&pf_rd_p=1a264172-ae11-42e4-8ef7-7fed1973bb8f&pf_rd_r=VZEYAR8ZVPNKZ9V7MV87&pf_rd_s=center-1&pf_rd_t=15506&pf_rd_i=top&ref_=chttp_tt_32'},\n",
       " {'title': 'Alien',\n",
       "  'description': 'The crew of a commercial spacecraft encounter a deadly lifeform after investigating an unknown transmission.',\n",
       "  'genre': 'Horror',\n",
       "  'image_url': 'https://m.media-amazon.com/images/M/MV5BOGQzZTBjMjQtOTVmMS00NGE5LWEyYmMtOGQ1ZGZjNmRkYjFhXkEyXkFqcGdeQXVyMjUzOTY1NTc@._V1_UX45_CR0,0,45,67_AL_.jpg',\n",
       "  'link': 'https://imdb.com/title/tt0078748/?pf_rd_m=A2FGELUUNOQJNL&pf_rd_p=1a264172-ae11-42e4-8ef7-7fed1973bb8f&pf_rd_r=VZEYAR8ZVPNKZ9V7MV87&pf_rd_s=center-1&pf_rd_t=15506&pf_rd_i=top&ref_=chttp_tt_50'},\n",
       " {'title': 'The Thing',\n",
       "  'description': 'A research team in Antarctica is hunted by a shape-shifting alien that assumes the appearance of its victims.',\n",
       "  'genre': 'Horror',\n",
       "  'image_url': 'https://m.media-amazon.com/images/M/MV5BNGViZWZmM2EtNGYzZi00ZDAyLTk3ODMtNzIyZTBjN2Y1NmM1XkEyXkFqcGdeQXVyNTAyODkwOQ@@._V1_UX45_CR0,0,45,67_AL_.jpg',\n",
       "  'link': 'https://imdb.com/title/tt0084787/?pf_rd_m=A2FGELUUNOQJNL&pf_rd_p=1a264172-ae11-42e4-8ef7-7fed1973bb8f&pf_rd_r=VZEYAR8ZVPNKZ9V7MV87&pf_rd_s=center-1&pf_rd_t=15506&pf_rd_i=top&ref_=chttp_tt_156'},\n",
       " {'title': 'The Exorcist',\n",
       "  'description': 'When a teenage girl is possessed by a mysterious entity, her mother seeks the help of two priests to save her daughter.',\n",
       "  'genre': 'Horror',\n",
       "  'image_url': 'https://m.media-amazon.com/images/M/MV5BYWFlZGY2NDktY2ZjOS00ZWNkLTg0ZDAtZDY4MTM1ODU4ZjljXkEyXkFqcGdeQXVyMjUzOTY1NTc@._V1_UX45_CR0,0,45,67_AL_.jpg',\n",
       "  'link': 'https://imdb.com/title/tt0070047/?pf_rd_m=A2FGELUUNOQJNL&pf_rd_p=1a264172-ae11-42e4-8ef7-7fed1973bb8f&pf_rd_r=VZEYAR8ZVPNKZ9V7MV87&pf_rd_s=center-1&pf_rd_t=15506&pf_rd_i=top&ref_=chttp_tt_226'}]"
      ]
     },
     "execution_count": 41,
     "metadata": {},
     "output_type": "execute_result"
    }
   ],
   "source": [
    "get_user_genre_choice(full_movies)"
   ]
  },
  {
   "cell_type": "markdown",
   "metadata": {},
   "source": [
    "#### Task 2 "
   ]
  },
  {
   "cell_type": "markdown",
   "metadata": {},
   "source": [
    "Show the movies in the selected genre\n",
    "\n",
    "Write some code to show the movies in a selected genre (you don't need to define this as a function yet):\n",
    "\n",
    "Use your get_movies_in_genre function to get a list of movies in the genre selected.\n",
    "\n",
    "Print each movie within the selected genre on a new line. At the start of the line, print the integer index of the movie.\n",
    "\n",
    "Make sure to:\n",
    "- Use the built-in enumerate function\n",
    "- Use an f-string to format the printed text\n",
    "- To avoid confusing users, make the indexing start from 1 rather than zero. For example, one line should look something like: \"3: The Dark Knight\"."
   ]
  },
  {
   "cell_type": "code",
   "execution_count": null,
   "metadata": {},
   "outputs": [
    {
     "name": "stdout",
     "output_type": "stream",
     "text": [
      "Please pick a genre from the below options\n",
      "{'Film-Noir', 'Western', 'Horror', 'Comedy', 'Action', 'Mystery', 'Adventure', 'Crime', 'Drama', 'Animation', 'Biography'}\n",
      "Genre chosen: Drama\n",
      "1 The Shawshank Redemption\n",
      "2 Forrest Gump\n",
      "3 Fight Club\n",
      "4 One Flew Over the Cuckoo's Nest\n",
      "5 It's a Wonderful Life\n",
      "6 Saving Private Ryan\n",
      "7 Parasite\n",
      "8 The Prestige\n",
      "9 Whiplash\n",
      "10 Casablanca\n",
      "11 Cinema Paradiso\n",
      "12 Apocalypse Now\n",
      "13 Django Unchained\n",
      "14 The Lives of Others\n",
      "15 Sunset Blvd.\n",
      "16 Paths of Glory\n",
      "17 The Shining\n",
      "18 American Beauty\n",
      "19 Das Boot\n",
      "20 Good Will Hunting\n",
      "21 Requiem for a Dream\n",
      "22 Eternal Sunshine of the Spotless Mind\n",
      "23 Capernaum\n",
      "24 The Hunt\n",
      "25 Citizen Kane\n",
      "26 Come and See\n",
      "27 Full Metal Jacket\n",
      "28 Ikiru\n",
      "29 Incendies\n",
      "30 Metropolis\n",
      "31 A Separation\n",
      "32 Bicycle Thieves\n",
      "33 Like Stars on Earth\n",
      "34 All About Eve\n",
      "35 The Father\n",
      "36 Judgment at Nuremberg\n",
      "37 Pan's Labyrinth\n",
      "38 Unforgiven\n",
      "39 There Will Be Blood\n",
      "40 The Sixth Sense\n",
      "41 Chinatown\n",
      "42 Gone with the Wind\n",
      "43 The Secret in Their Eyes\n",
      "44 Trainspotting\n",
      "45 Gran Torino\n",
      "46 Million Dollar Baby\n",
      "47 Children of Heaven\n",
      "48 Before Sunrise\n",
      "49 Wild Strawberries\n",
      "50 Gone Girl\n",
      "51 The Deer Hunter\n",
      "52 The Seventh Seal\n",
      "53 Room\n",
      "54 Tokyo Story\n",
      "55 Rocky\n",
      "56 Platoon\n",
      "57 Pather Panchali\n",
      "58 Network\n",
      "59 Before Sunset\n",
      "60 The Best Years of Our Lives\n",
      "61 The Battle of Algiers\n",
      "62 The Grapes of Wrath\n",
      "63 Rebecca\n",
      "64 Amores perros\n",
      "65 My Father and My Son\n",
      "66 Persona\n",
      "67 The Handmaiden\n",
      "68 The Help\n"
     ]
    }
   ],
   "source": [
    "list_of_movies = get_user_genre_choice(full_movies)\n",
    "for index, movie in enumerate(list_of_movies, start=1):\n",
    "    print(index, f\"{movie['title']}\")"
   ]
  },
  {
   "cell_type": "code",
   "execution_count": null,
   "metadata": {},
   "outputs": [
    {
     "name": "stdout",
     "output_type": "stream",
     "text": [
      "Please pick a genre from the below options\n",
      "{'Film-Noir', 'Western', 'Horror', 'Comedy', 'Action', 'Mystery', 'Adventure', 'Crime', 'Drama', 'Animation', 'Biography'}\n",
      "Genre chosen: Drama\n",
      "1 The Shawshank Redemption\n",
      "2 Forrest Gump\n",
      "3 Fight Club\n",
      "4 One Flew Over the Cuckoo's Nest\n",
      "5 It's a Wonderful Life\n",
      "6 Saving Private Ryan\n",
      "7 Parasite\n",
      "8 The Prestige\n",
      "9 Whiplash\n",
      "10 Casablanca\n",
      "11 Cinema Paradiso\n",
      "12 Apocalypse Now\n",
      "13 Django Unchained\n",
      "14 The Lives of Others\n",
      "15 Sunset Blvd.\n",
      "16 Paths of Glory\n",
      "17 The Shining\n",
      "18 American Beauty\n",
      "19 Das Boot\n",
      "20 Good Will Hunting\n",
      "21 Requiem for a Dream\n",
      "22 Eternal Sunshine of the Spotless Mind\n",
      "23 Capernaum\n",
      "24 The Hunt\n",
      "25 Citizen Kane\n",
      "26 Come and See\n",
      "27 Full Metal Jacket\n",
      "28 Ikiru\n",
      "29 Incendies\n",
      "30 Metropolis\n",
      "31 A Separation\n",
      "32 Bicycle Thieves\n",
      "33 Like Stars on Earth\n",
      "34 All About Eve\n",
      "35 The Father\n",
      "36 Judgment at Nuremberg\n",
      "37 Pan's Labyrinth\n",
      "38 Unforgiven\n",
      "39 There Will Be Blood\n",
      "40 The Sixth Sense\n",
      "41 Chinatown\n",
      "42 Gone with the Wind\n",
      "43 The Secret in Their Eyes\n",
      "44 Trainspotting\n",
      "45 Gran Torino\n",
      "46 Million Dollar Baby\n",
      "47 Children of Heaven\n",
      "48 Before Sunrise\n",
      "49 Wild Strawberries\n",
      "50 Gone Girl\n",
      "51 The Deer Hunter\n",
      "52 The Seventh Seal\n",
      "53 Room\n",
      "54 Tokyo Story\n",
      "55 Rocky\n",
      "56 Platoon\n",
      "57 Pather Panchali\n",
      "58 Network\n",
      "59 Before Sunset\n",
      "60 The Best Years of Our Lives\n",
      "61 The Battle of Algiers\n",
      "62 The Grapes of Wrath\n",
      "63 Rebecca\n",
      "64 Amores perros\n",
      "65 My Father and My Son\n",
      "66 Persona\n",
      "67 The Handmaiden\n",
      "68 The Help\n"
     ]
    }
   ],
   "source": [
    "def get_list_of_movies():\n",
    "    list_of_movies = get_user_genre_choice(full_movies)\n",
    "    for index, movie in enumerate(list_of_movies, start=1):\n",
    "        print(index, f\"{movie['title']}\")\n",
    "\n",
    "get_list_of_movies()"
   ]
  },
  {
   "cell_type": "markdown",
   "metadata": {},
   "source": [
    "#### Task 3 "
   ]
  },
  {
   "cell_type": "markdown",
   "metadata": {},
   "source": [
    "Select and display the details of a movie\n",
    "\n",
    "Define a new function called get_movie_by_index. It should first print out all the movies in the genre selected.\n",
    "\n",
    "Then, it should ask the user to select a movie by entering the index of the movie. Assign this to a variable named selected_movie_index.\n",
    "\n",
    "HINT: Be careful of what data type is returned from the input() function.\n",
    "\n",
    "Print the key-value pairs of the selected movie's dictionary each on a new line.\n",
    "\n",
    "On each line, print the key and the value, separated by a comma.\n",
    "\n",
    "Make sure to use the .items() method of the dictionary.\n",
    "\n",
    "Your program should end after this."
   ]
  },
  {
   "cell_type": "markdown",
   "metadata": {},
   "source": []
  },
  {
   "cell_type": "code",
   "execution_count": 28,
   "metadata": {},
   "outputs": [
    {
     "name": "stdout",
     "output_type": "stream",
     "text": [
      "1: The Shawshank Redemption\n",
      "2: Forrest Gump\n",
      "3: Fight Club\n",
      "4: One Flew Over the Cuckoo's Nest\n",
      "5: It's a Wonderful Life\n",
      "6: Saving Private Ryan\n",
      "7: Parasite\n",
      "8: The Prestige\n",
      "9: Whiplash\n",
      "10: Casablanca\n",
      "11: Cinema Paradiso\n",
      "12: Apocalypse Now\n",
      "13: Django Unchained\n",
      "14: The Lives of Others\n",
      "15: Sunset Blvd.\n",
      "16: Paths of Glory\n",
      "17: The Shining\n",
      "18: American Beauty\n",
      "19: Das Boot\n",
      "20: Good Will Hunting\n",
      "21: Requiem for a Dream\n",
      "22: Eternal Sunshine of the Spotless Mind\n",
      "23: Capernaum\n",
      "24: The Hunt\n",
      "25: Citizen Kane\n",
      "26: Come and See\n",
      "27: Full Metal Jacket\n",
      "28: Ikiru\n",
      "29: Incendies\n",
      "30: Metropolis\n",
      "31: A Separation\n",
      "32: Bicycle Thieves\n",
      "33: Like Stars on Earth\n",
      "34: All About Eve\n",
      "35: The Father\n",
      "36: Judgment at Nuremberg\n",
      "37: Pan's Labyrinth\n",
      "38: Unforgiven\n",
      "39: There Will Be Blood\n",
      "40: The Sixth Sense\n",
      "41: Chinatown\n",
      "42: Gone with the Wind\n",
      "43: The Secret in Their Eyes\n",
      "44: Trainspotting\n",
      "45: Gran Torino\n",
      "46: Million Dollar Baby\n",
      "47: Children of Heaven\n",
      "48: Before Sunrise\n",
      "49: Wild Strawberries\n",
      "50: Gone Girl\n",
      "51: The Deer Hunter\n",
      "52: The Seventh Seal\n",
      "53: Room\n",
      "54: Tokyo Story\n",
      "55: Rocky\n",
      "56: Platoon\n",
      "57: Pather Panchali\n",
      "58: Network\n",
      "59: Before Sunset\n",
      "60: The Best Years of Our Lives\n",
      "61: The Battle of Algiers\n",
      "62: The Grapes of Wrath\n",
      "63: Rebecca\n",
      "64: Amores perros\n",
      "65: My Father and My Son\n",
      "66: Persona\n",
      "67: The Handmaiden\n",
      "68: The Help\n",
      "\n",
      "\n",
      "title: Sunset Blvd.\n",
      "description: A screenwriter develops a dangerous relationship with a faded film star determined to make a triumphant return.\n",
      "genre: Drama\n",
      "image_url: https://m.media-amazon.com/images/M/MV5BMTU0NTkyNzYwMF5BMl5BanBnXkFtZTgwMDU0NDk5MTI@._V1_UX45_CR0,0,45,67_AL_.jpg\n",
      "link: https://imdb.com/title/tt0043014/?pf_rd_m=A2FGELUUNOQJNL&pf_rd_p=1a264172-ae11-42e4-8ef7-7fed1973bb8f&pf_rd_r=VZEYAR8ZVPNKZ9V7MV87&pf_rd_s=center-1&pf_rd_t=15506&pf_rd_i=top&ref_=chttp_tt_59\n"
     ]
    }
   ],
   "source": [
    "def get_movie_by_index(list_of_movies):\n",
    "\n",
    "    for index, movie in enumerate(list_of_movies, start=1): \n",
    "        print(f\"{index}: {movie['title']}\")\n",
    "\n",
    "    selected_movie_index = input(\"Please enter the index of movie you'd like to select: \")\n",
    "    if selected_movie_index.isdigit():\n",
    "        selected_movie_index = int(selected_movie_index)\n",
    "        \n",
    "        if 1 <= selected_movie_index <= len(list_of_movies):\n",
    "            selected_movie = list_of_movies[selected_movie_index - 1]\n",
    "            print(\"\\n\")\n",
    "            for key, value in selected_movie.items():\n",
    "                print(f\"{key}: {value}\")\n",
    "\n",
    "        else: \n",
    "            print(\"\\nInvalid index. Please enter a number within the valid range. List of available indexs to choose from are below: \") \n",
    "            get_movie_by_index(list_of_movies)\n",
    "        \n",
    "\n",
    "get_movie_by_index(list_of_movies)"
   ]
  },
  {
   "cell_type": "markdown",
   "metadata": {},
   "source": [
    "## Milestone 5: Introduce Error Handling for your Code"
   ]
  },
  {
   "cell_type": "markdown",
   "metadata": {},
   "source": [
    "#### Task 1"
   ]
  },
  {
   "cell_type": "markdown",
   "metadata": {},
   "source": [
    "Validate the user's genre choice\n",
    "\n",
    "Redefine the get_user_genre_choice function to validate the input and make sure that it's actually one of the genres from the dataset.\n",
    "\n",
    "If the value is not valid, then raise an error."
   ]
  },
  {
   "cell_type": "code",
   "execution_count": 90,
   "metadata": {},
   "outputs": [],
   "source": [
    "## Original get_user_genre_choice_function \n",
    "\n",
    "#def get_user_genre_choice(full_movies):\n",
    "    #print(\"Please pick a genre from the below options\")\n",
    "    #print(get_unique_genres())\n",
    "    \n",
    "    #genre_choice = input(\"\")\n",
    "    #print(f\"Genre chosen: {genre_choice}\")\n",
    "    \n",
    "    #list_of_movies = get_movies_in_genre(genre_choice)\n",
    "    \n",
    "    #return list_of_movies\n",
    "\n",
    "## To include validation of input\n",
    "\n",
    "def get_user_genre_choice(full_movies):\n",
    "    print(\"Please pick a genre from the below options:\\n\")\n",
    "    print(get_unique_genres(full_movies))    \n",
    "    \n",
    "    genre_choice = input(\"Enter your genre choice: \")\n",
    "    \n",
    "    if genre_choice in get_unique_genres(full_movies):\n",
    "        print(f\"Genre chosen: {genre_choice}\")\n",
    "        list_of_movies = get_movies_in_genre(genre_choice, full_movies)\n",
    "\n",
    "    else:\n",
    "        print(f\"Incorrect genre chosen: {genre_choice} please choose from the list provided\")\n",
    "        return get_user_genre_choice(full_movies)\n",
    "\n",
    "    return list_of_movies"
   ]
  },
  {
   "cell_type": "code",
   "execution_count": 91,
   "metadata": {},
   "outputs": [
    {
     "name": "stdout",
     "output_type": "stream",
     "text": [
      "Please pick a genre from the below options:\n",
      "\n",
      "{'Film-Noir', 'Western', 'Horror', 'Comedy', 'Action', 'Mystery', 'Adventure', 'Crime', 'Drama', 'Animation', 'Biography'}\n",
      "Incorrect genre chosen: Tori please choose from the list provided\n",
      "Please pick a genre from the below options:\n",
      "\n",
      "{'Film-Noir', 'Western', 'Horror', 'Comedy', 'Action', 'Mystery', 'Adventure', 'Crime', 'Drama', 'Animation', 'Biography'}\n",
      "Incorrect genre chosen: Nope please choose from the list provided\n",
      "Please pick a genre from the below options:\n",
      "\n",
      "{'Film-Noir', 'Western', 'Horror', 'Comedy', 'Action', 'Mystery', 'Adventure', 'Crime', 'Drama', 'Animation', 'Biography'}\n",
      "Genre chosen: Comedy\n"
     ]
    },
    {
     "data": {
      "text/plain": [
       "[{'title': 'Life Is Beautiful',\n",
       "  'description': 'When an open-minded Jewish waiter and his son become victims of the Holocaust, he uses a perfect mixture of will, humor, and imagination to protect his son from the dangers around their camp.',\n",
       "  'genre': 'Comedy',\n",
       "  'image_url': 'https://m.media-amazon.com/images/M/MV5BYmJmM2Q4NmMtYThmNC00ZjRlLWEyZmItZTIwOTBlZDQ3NTQ1XkEyXkFqcGdeQXVyMTQxNzMzNDI@._V1_UX45_CR0,0,45,67_AL_.jpg',\n",
       "  'link': 'https://imdb.com/title/tt0118799/?pf_rd_m=A2FGELUUNOQJNL&pf_rd_p=1a264172-ae11-42e4-8ef7-7fed1973bb8f&pf_rd_r=VZEYAR8ZVPNKZ9V7MV87&pf_rd_s=center-1&pf_rd_t=15506&pf_rd_i=top&ref_=chttp_tt_25'},\n",
       " {'title': 'Modern Times',\n",
       "  'description': 'The Tramp struggles to live in modern industrial society with the help of a young homeless woman.',\n",
       "  'genre': 'Comedy',\n",
       "  'image_url': 'https://m.media-amazon.com/images/M/MV5BYjJiZjMzYzktNjU0NS00OTkxLWEwYzItYzdhYWJjN2QzMTRlL2ltYWdlL2ltYWdlXkEyXkFqcGdeQXVyNjU0OTQ0OTY@._V1_UX45_CR0,0,45,67_AL_.jpg',\n",
       "  'link': 'https://imdb.com/title/tt0027977/?pf_rd_m=A2FGELUUNOQJNL&pf_rd_p=1a264172-ae11-42e4-8ef7-7fed1973bb8f&pf_rd_r=VZEYAR8ZVPNKZ9V7MV87&pf_rd_s=center-1&pf_rd_t=15506&pf_rd_i=top&ref_=chttp_tt_47'},\n",
       " {'title': 'City Lights',\n",
       "  'description': 'With the aid of a wealthy erratic tippler, a dewy-eyed tramp who has fallen in love with a sightless flower girl accumulates money to be able to help her medically.',\n",
       "  'genre': 'Comedy',\n",
       "  'image_url': 'https://m.media-amazon.com/images/M/MV5BY2I4MmM1N2EtM2YzOS00OWUzLTkzYzctNDc5NDg2N2IyODJmXkEyXkFqcGdeQXVyNzkwMjQ5NzM@._V1_UX45_CR0,0,45,67_AL_.jpg',\n",
       "  'link': 'https://imdb.com/title/tt0021749/?pf_rd_m=A2FGELUUNOQJNL&pf_rd_p=1a264172-ae11-42e4-8ef7-7fed1973bb8f&pf_rd_r=VZEYAR8ZVPNKZ9V7MV87&pf_rd_s=center-1&pf_rd_t=15506&pf_rd_i=top&ref_=chttp_tt_51'},\n",
       " {'title': 'The Great Dictator',\n",
       "  'description': \"Dictator Adenoid Hynkel tries to expand his empire while a poor Jewish barber tries to avoid persecution from Hynkel's regime.\",\n",
       "  'genre': 'Comedy',\n",
       "  'image_url': 'https://m.media-amazon.com/images/M/MV5BMmExYWJjNTktNGUyZS00ODhmLTkxYzAtNWIzOGEyMGNiMmUwXkEyXkFqcGdeQXVyNjU0OTQ0OTY@._V1_UY67_CR0,0,45,67_AL_.jpg',\n",
       "  'link': 'https://imdb.com/title/tt0032553/?pf_rd_m=A2FGELUUNOQJNL&pf_rd_p=1a264172-ae11-42e4-8ef7-7fed1973bb8f&pf_rd_r=VZEYAR8ZVPNKZ9V7MV87&pf_rd_s=center-1&pf_rd_t=15506&pf_rd_i=top&ref_=chttp_tt_62'},\n",
       " {'title': 'Dr. Strangelove or: How I Learned to Stop Worrying and Love the Bomb',\n",
       "  'description': 'An insane American general orders a bombing attack on the Soviet Union, triggering a path to nuclear holocaust that a war room full of politicians and generals frantically tries to stop.',\n",
       "  'genre': 'Comedy',\n",
       "  'image_url': 'https://m.media-amazon.com/images/M/MV5BZWI3ZTMxNjctMjdlNS00NmUwLWFiM2YtZDUyY2I3N2MxYTE0XkEyXkFqcGdeQXVyNzkwMjQ5NzM@._V1_UX45_CR0,0,45,67_AL_.jpg',\n",
       "  'link': 'https://imdb.com/title/tt0057012/?pf_rd_m=A2FGELUUNOQJNL&pf_rd_p=1a264172-ae11-42e4-8ef7-7fed1973bb8f&pf_rd_r=VZEYAR8ZVPNKZ9V7MV87&pf_rd_s=center-1&pf_rd_t=15506&pf_rd_i=top&ref_=chttp_tt_68'},\n",
       " {'title': \"Singin' in the Rain\",\n",
       "  'description': 'A silent film star falls for a chorus girl just as he and his delusionally jealous screen partner are trying to make the difficult transition to talking pictures in 1920s Hollywood.',\n",
       "  'genre': 'Comedy',\n",
       "  'image_url': 'https://m.media-amazon.com/images/M/MV5BZDRjNGViMjQtOThlMi00MTA3LThkYzQtNzJkYjBkMGE0YzE1XkEyXkFqcGdeQXVyNDYyMDk5MTU@._V1_UY67_CR0,0,45,67_AL_.jpg',\n",
       "  'link': 'https://imdb.com/title/tt0045152/?pf_rd_m=A2FGELUUNOQJNL&pf_rd_p=1a264172-ae11-42e4-8ef7-7fed1973bb8f&pf_rd_r=VZEYAR8ZVPNKZ9V7MV87&pf_rd_s=center-1&pf_rd_t=15506&pf_rd_i=top&ref_=chttp_tt_86'},\n",
       " {'title': '3 Idiots',\n",
       "  'description': 'Two friends are searching for their long lost companion. They revisit their college days and recall the memories of their friend who inspired them to think differently, even as the rest of the world called them \"idiots\".',\n",
       "  'genre': 'Comedy',\n",
       "  'image_url': 'https://m.media-amazon.com/images/M/MV5BNTkyOGVjMGEtNmQzZi00NzFlLTlhOWQtODYyMDc2ZGJmYzFhXkEyXkFqcGdeQXVyNjU0OTQ0OTY@._V1_UY67_CR1,0,45,67_AL_.jpg',\n",
       "  'link': 'https://imdb.com/title/tt1187043/?pf_rd_m=A2FGELUUNOQJNL&pf_rd_p=1a264172-ae11-42e4-8ef7-7fed1973bb8f&pf_rd_r=VZEYAR8ZVPNKZ9V7MV87&pf_rd_s=center-1&pf_rd_t=15506&pf_rd_i=top&ref_=chttp_tt_87'},\n",
       " {'title': 'Amélie',\n",
       "  'description': 'Amélie is an innocent and naive girl in Paris with her own sense of justice. She decides to help those around her and, along the way, discovers love.',\n",
       "  'genre': 'Comedy',\n",
       "  'image_url': 'https://m.media-amazon.com/images/M/MV5BNDg4NjM1YjMtYmNhZC00MjM0LWFiZmYtNGY1YjA3MzZmODc5XkEyXkFqcGdeQXVyNDk3NzU2MTQ@._V1_UX45_CR0,0,45,67_AL_.jpg',\n",
       "  'link': 'https://imdb.com/title/tt0211915/?pf_rd_m=A2FGELUUNOQJNL&pf_rd_p=1a264172-ae11-42e4-8ef7-7fed1973bb8f&pf_rd_r=VZEYAR8ZVPNKZ9V7MV87&pf_rd_s=center-1&pf_rd_t=15506&pf_rd_i=top&ref_=chttp_tt_101'},\n",
       " {'title': 'The Apartment',\n",
       "  'description': 'A Manhattan insurance clerk tries to rise in his company by letting its executives use his apartment for trysts, but complications and a romance of his own ensue.',\n",
       "  'genre': 'Comedy',\n",
       "  'image_url': 'https://m.media-amazon.com/images/M/MV5BNzkwODFjNzItMmMwNi00MTU5LWE2MzktM2M4ZDczZGM1MmViXkEyXkFqcGdeQXVyNDY2MTk1ODk@._V1_UX45_CR0,0,45,67_AL_.jpg',\n",
       "  'link': 'https://imdb.com/title/tt0053604/?pf_rd_m=A2FGELUUNOQJNL&pf_rd_p=1a264172-ae11-42e4-8ef7-7fed1973bb8f&pf_rd_r=VZEYAR8ZVPNKZ9V7MV87&pf_rd_s=center-1&pf_rd_t=15506&pf_rd_i=top&ref_=chttp_tt_103'},\n",
       " {'title': 'The Sting',\n",
       "  'description': 'Two grifters team up to pull off the ultimate con.',\n",
       "  'genre': 'Comedy',\n",
       "  'image_url': 'https://m.media-amazon.com/images/M/MV5BNGU3NjQ4YTMtZGJjOS00YTQ3LThmNmItMTI5MDE2ODI3NzY3XkEyXkFqcGdeQXVyMjUzOTY1NTc@._V1_UX45_CR0,0,45,67_AL_.jpg',\n",
       "  'link': 'https://imdb.com/title/tt0070735/?pf_rd_m=A2FGELUUNOQJNL&pf_rd_p=1a264172-ae11-42e4-8ef7-7fed1973bb8f&pf_rd_r=VZEYAR8ZVPNKZ9V7MV87&pf_rd_s=center-1&pf_rd_t=15506&pf_rd_i=top&ref_=chttp_tt_109'},\n",
       " {'title': 'Snatch',\n",
       "  'description': 'Unscrupulous boxing promoters, violent bookmakers, a Russian gangster, incompetent amateur robbers and supposedly Jewish jewelers fight to track down a priceless stolen diamond.',\n",
       "  'genre': 'Comedy',\n",
       "  'image_url': 'https://m.media-amazon.com/images/M/MV5BMTA2NDYxOGYtYjU1Mi00Y2QzLTgxMTQtMWI1MGI0ZGQ5MmU4XkEyXkFqcGdeQXVyNDk3NzU2MTQ@._V1_UY67_CR0,0,45,67_AL_.jpg',\n",
       "  'link': 'https://imdb.com/title/tt0208092/?pf_rd_m=A2FGELUUNOQJNL&pf_rd_p=1a264172-ae11-42e4-8ef7-7fed1973bb8f&pf_rd_r=VZEYAR8ZVPNKZ9V7MV87&pf_rd_s=center-1&pf_rd_t=15506&pf_rd_i=top&ref_=chttp_tt_118'},\n",
       " {'title': 'The Kid',\n",
       "  'description': 'The Tramp cares for an abandoned child, but events put their relationship in jeopardy.',\n",
       "  'genre': 'Comedy',\n",
       "  'image_url': 'https://m.media-amazon.com/images/M/MV5BZjhhMThhNDItNTY2MC00MmU1LTliNDEtNDdhZjdlNTY5ZDQ1XkEyXkFqcGdeQXVyNjc1NTYyMjg@._V1_UX45_CR0,0,45,67_AL_.jpg',\n",
       "  'link': 'https://imdb.com/title/tt0012349/?pf_rd_m=A2FGELUUNOQJNL&pf_rd_p=1a264172-ae11-42e4-8ef7-7fed1973bb8f&pf_rd_r=VZEYAR8ZVPNKZ9V7MV87&pf_rd_s=center-1&pf_rd_t=15506&pf_rd_i=top&ref_=chttp_tt_128'},\n",
       " {'title': 'Some Like It Hot',\n",
       "  'description': 'After two male musicians witness a mob hit, they flee the state in an all-female band disguised as women, but further complications set in.',\n",
       "  'genre': 'Comedy',\n",
       "  'image_url': 'https://m.media-amazon.com/images/M/MV5BNzAyOGIxYjAtMGY2NC00ZTgyLWIwMWEtYzY0OWQ4NDFjOTc5XkEyXkFqcGdeQXVyNjU0OTQ0OTY@._V1_UX45_CR0,0,45,67_AL_.jpg',\n",
       "  'link': 'https://imdb.com/title/tt0053291/?pf_rd_m=A2FGELUUNOQJNL&pf_rd_p=1a264172-ae11-42e4-8ef7-7fed1973bb8f&pf_rd_r=VZEYAR8ZVPNKZ9V7MV87&pf_rd_s=center-1&pf_rd_t=15506&pf_rd_i=top&ref_=chttp_tt_129'},\n",
       " {'title': 'The Truman Show',\n",
       "  'description': 'An insurance salesman discovers his whole life is actually a reality TV show.',\n",
       "  'genre': 'Comedy',\n",
       "  'image_url': 'https://m.media-amazon.com/images/M/MV5BMDIzODcyY2EtMmY2MC00ZWVlLTgwMzAtMjQwOWUyNmJjNTYyXkEyXkFqcGdeQXVyNDk3NzU2MTQ@._V1_UY67_CR0,0,45,67_AL_.jpg',\n",
       "  'link': 'https://imdb.com/title/tt0120382/?pf_rd_m=A2FGELUUNOQJNL&pf_rd_p=1a264172-ae11-42e4-8ef7-7fed1973bb8f&pf_rd_r=VZEYAR8ZVPNKZ9V7MV87&pf_rd_s=center-1&pf_rd_t=15506&pf_rd_i=top&ref_=chttp_tt_141'},\n",
       " {'title': 'Three Billboards Outside Ebbing, Missouri',\n",
       "  'description': \"A mother personally challenges the local authorities to solve her daughter's murder when they fail to catch the culprit.\",\n",
       "  'genre': 'Comedy',\n",
       "  'image_url': 'https://m.media-amazon.com/images/M/MV5BMjI0ODcxNzM1N15BMl5BanBnXkFtZTgwMzIwMTEwNDI@._V1_UY67_CR0,0,45,67_AL_.jpg',\n",
       "  'link': 'https://imdb.com/title/tt5027774/?pf_rd_m=A2FGELUUNOQJNL&pf_rd_p=1a264172-ae11-42e4-8ef7-7fed1973bb8f&pf_rd_r=VZEYAR8ZVPNKZ9V7MV87&pf_rd_s=center-1&pf_rd_t=15506&pf_rd_i=top&ref_=chttp_tt_166'},\n",
       " {'title': 'Mr. Smith Goes to Washington',\n",
       "  'description': 'A naive youth leader is appointed to fill a vacancy in the U.S. Senate. His idealistic plans promptly collide with corruption at home and subterfuge from his hero in Washington, but he tries to forge ahead despite attacks on his character.',\n",
       "  'genre': 'Comedy',\n",
       "  'image_url': 'https://m.media-amazon.com/images/M/MV5BZTYwYjYxYzgtMDE1Ni00NzU4LWJlMTEtODQ5YmJmMGJhZjI5L2ltYWdlXkEyXkFqcGdeQXVyMDI2NDg0NQ@@._V1_UX45_CR0,0,45,67_AL_.jpg',\n",
       "  'link': 'https://imdb.com/title/tt0031679/?pf_rd_m=A2FGELUUNOQJNL&pf_rd_p=1a264172-ae11-42e4-8ef7-7fed1973bb8f&pf_rd_r=VZEYAR8ZVPNKZ9V7MV87&pf_rd_s=center-1&pf_rd_t=15506&pf_rd_i=top&ref_=chttp_tt_193'},\n",
       " {'title': 'Wild Tales',\n",
       "  'description': 'Six short stories that explore the extremities of human behavior involving people in distress.',\n",
       "  'genre': 'Comedy',\n",
       "  'image_url': 'https://m.media-amazon.com/images/M/MV5BNGQzY2Y0MTgtMDA4OC00NjM3LWI0ZGQtNTJlM2UxZDQxZjI0XkEyXkFqcGdeQXVyNDUzOTQ5MjY@._V1_UY67_CR1,0,45,67_AL_.jpg',\n",
       "  'link': 'https://imdb.com/title/tt3011894/?pf_rd_m=A2FGELUUNOQJNL&pf_rd_p=1a264172-ae11-42e4-8ef7-7fed1973bb8f&pf_rd_r=VZEYAR8ZVPNKZ9V7MV87&pf_rd_s=center-1&pf_rd_t=15506&pf_rd_i=top&ref_=chttp_tt_197'},\n",
       " {'title': 'The Big Lebowski',\n",
       "  'description': 'Ultimate L.A. slacker Jeff \"The Dude\" Lebowski, mistaken for a millionaire of the same name, seeks restitution for a rug ruined by debt collectors, enlisting his bowling buddies for help while trying to find the millionaire\\'s missing wife.',\n",
       "  'genre': 'Comedy',\n",
       "  'image_url': 'https://m.media-amazon.com/images/M/MV5BMTQ0NjUzMDMyOF5BMl5BanBnXkFtZTgwODA1OTU0MDE@._V1_UX45_CR0,0,45,67_AL_.jpg',\n",
       "  'link': 'https://imdb.com/title/tt0118715/?pf_rd_m=A2FGELUUNOQJNL&pf_rd_p=1a264172-ae11-42e4-8ef7-7fed1973bb8f&pf_rd_r=VZEYAR8ZVPNKZ9V7MV87&pf_rd_s=center-1&pf_rd_t=15506&pf_rd_i=top&ref_=chttp_tt_203'},\n",
       " {'title': 'Dead Poets Society',\n",
       "  'description': 'Maverick teacher John Keating uses poetry to embolden his boarding school students to new heights of self-expression.',\n",
       "  'genre': 'Comedy',\n",
       "  'image_url': 'https://m.media-amazon.com/images/M/MV5BOGYwYWNjMzgtNGU4ZC00NWQ2LWEwZjUtMzE1Zjc3NjY3YTU1XkEyXkFqcGdeQXVyMTQxNzMzNDI@._V1_UY67_CR0,0,45,67_AL_.jpg',\n",
       "  'link': 'https://imdb.com/title/tt0097165/?pf_rd_m=A2FGELUUNOQJNL&pf_rd_p=1a264172-ae11-42e4-8ef7-7fed1973bb8f&pf_rd_r=VZEYAR8ZVPNKZ9V7MV87&pf_rd_s=center-1&pf_rd_t=15506&pf_rd_i=top&ref_=chttp_tt_208'},\n",
       " {'title': 'Groundhog Day',\n",
       "  'description': 'A narcissistic, self-centered weatherman finds himself in a time loop on Groundhog Day, and the day keeps repeating until he gets it right.',\n",
       "  'genre': 'Comedy',\n",
       "  'image_url': 'https://m.media-amazon.com/images/M/MV5BZWIxNzM5YzQtY2FmMS00Yjc3LWI1ZjUtNGVjMjMzZTIxZTIxXkEyXkFqcGdeQXVyNjU0OTQ0OTY@._V1_UY67_CR0,0,45,67_AL_.jpg',\n",
       "  'link': 'https://imdb.com/title/tt0107048/?pf_rd_m=A2FGELUUNOQJNL&pf_rd_p=1a264172-ae11-42e4-8ef7-7fed1973bb8f&pf_rd_r=VZEYAR8ZVPNKZ9V7MV87&pf_rd_s=center-1&pf_rd_t=15506&pf_rd_i=top&ref_=chttp_tt_225'},\n",
       " {'title': 'To Be or Not to Be',\n",
       "  'description': \"During the Nazi occupation of Poland, an acting troupe becomes embroiled in a Polish soldier's efforts to track down a German spy.\",\n",
       "  'genre': 'Comedy',\n",
       "  'image_url': 'https://m.media-amazon.com/images/M/MV5BODZlOGI5ZjYtN2UwNy00OGY0LTgxY2UtNDZhMzBkN2EyZmIyXkEyXkFqcGdeQXVyNTgyNTA4MjM@._V1_UX45_CR0,0,45,67_AL_.jpg',\n",
       "  'link': 'https://imdb.com/title/tt0035446/?pf_rd_m=A2FGELUUNOQJNL&pf_rd_p=1a264172-ae11-42e4-8ef7-7fed1973bb8f&pf_rd_r=VZEYAR8ZVPNKZ9V7MV87&pf_rd_s=center-1&pf_rd_t=15506&pf_rd_i=top&ref_=chttp_tt_229'},\n",
       " {'title': 'It Happened One Night',\n",
       "  'description': 'A renegade reporter trailing a young runaway heiress for a big story joins her on a bus heading from Florida to New York, and they end up stuck with each other when the bus leaves them behind at one of the stops.',\n",
       "  'genre': 'Comedy',\n",
       "  'image_url': 'https://m.media-amazon.com/images/M/MV5BYzJmMWE5NjAtNWMyZS00NmFiLWIwMDgtZDE2NzczYWFhNzIzXkEyXkFqcGdeQXVyNjc1NTYyMjg@._V1_UX45_CR0,0,45,67_AL_.jpg',\n",
       "  'link': 'https://imdb.com/title/tt0025316/?pf_rd_m=A2FGELUUNOQJNL&pf_rd_p=1a264172-ae11-42e4-8ef7-7fed1973bb8f&pf_rd_r=VZEYAR8ZVPNKZ9V7MV87&pf_rd_s=center-1&pf_rd_t=15506&pf_rd_i=top&ref_=chttp_tt_243'},\n",
       " {'title': 'Life of Brian',\n",
       "  'description': 'Born on the original Christmas in the stable next door to Jesus Christ, Brian of Nazareth spends his life being mistaken for a messiah.',\n",
       "  'genre': 'Comedy',\n",
       "  'image_url': 'https://m.media-amazon.com/images/M/MV5BMDA1ZWI4ZDItOTRlYi00OTUxLWFlNWQtMzM5NDI0YjA4ZGI2XkEyXkFqcGdeQXVyMjUzOTY1NTc@._V1_UX45_CR0,0,45,67_AL_.jpg',\n",
       "  'link': 'https://imdb.com/title/tt0079470/?pf_rd_m=A2FGELUUNOQJNL&pf_rd_p=1a264172-ae11-42e4-8ef7-7fed1973bb8f&pf_rd_r=VZEYAR8ZVPNKZ9V7MV87&pf_rd_s=center-1&pf_rd_t=15506&pf_rd_i=top&ref_=chttp_tt_245'}]"
      ]
     },
     "execution_count": 91,
     "metadata": {},
     "output_type": "execute_result"
    }
   ],
   "source": [
    "get_user_genre_choice(full_movies)"
   ]
  },
  {
   "cell_type": "markdown",
   "metadata": {},
   "source": [
    "#### Task 2\n"
   ]
  },
  {
   "cell_type": "markdown",
   "metadata": {},
   "source": [
    "Raise a specific type of error\n",
    "\n",
    "Specifically, raise a ValueError with a useful error message \"This is not a valid genre\"."
   ]
  },
  {
   "cell_type": "code",
   "execution_count": 96,
   "metadata": {},
   "outputs": [],
   "source": [
    "def get_user_genre_choice(full_movies):\n",
    "    try:\n",
    "        print(\"Please pick a genre from the below options:\\n\")\n",
    "        print(get_unique_genres(full_movies))    \n",
    "    \n",
    "        genre_choice = input(\"Enter your genre choice: \")\n",
    "    \n",
    "        if genre_choice not in get_unique_genres(full_movies):\n",
    "            raise ValueError (\"This is not a valid genre\")\n",
    "            \n",
    "        print(f\"Genre chosen: {genre_choice}\")\n",
    "        list_of_movies = get_movies_in_genre(genre_choice, full_movies)\n",
    "        return list_of_movies\n",
    "\n",
    "    except ValueError as e:\n",
    "        print(e)"
   ]
  },
  {
   "cell_type": "code",
   "execution_count": 97,
   "metadata": {},
   "outputs": [
    {
     "name": "stdout",
     "output_type": "stream",
     "text": [
      "Please pick a genre from the below options:\n",
      "\n",
      "{'Film-Noir', 'Western', 'Horror', 'Comedy', 'Action', 'Mystery', 'Adventure', 'Crime', 'Drama', 'Animation', 'Biography'}\n",
      "This is not a valid genre\n"
     ]
    }
   ],
   "source": [
    "get_user_genre_choice(full_movies)"
   ]
  },
  {
   "cell_type": "markdown",
   "metadata": {},
   "source": [
    "#### Task 3"
   ]
  },
  {
   "cell_type": "markdown",
   "metadata": {},
   "source": [
    "Handle the error\n",
    "\n",
    "If the genre selected is not valid, and your code successfully raises an error when that is the case, handle the error so that instead of your code failing and stopping, it asks the user to try again.\n",
    "\n",
    "HINT: You may want to use an infinite while loop, and break out of it only if the error is not raised.\n",
    "\n",
    "The code should handle only the specific type of error that is raised if the genre is not valid."
   ]
  },
  {
   "cell_type": "code",
   "execution_count": 98,
   "metadata": {},
   "outputs": [],
   "source": [
    "def get_user_genre_choice(full_movies):\n",
    "    try:\n",
    "        print(\"Please pick a genre from the below options:\\n\")\n",
    "        print(get_unique_genres(full_movies))    \n",
    "    \n",
    "        genre_choice = input(\"Enter your genre choice: \")\n",
    "    \n",
    "        if genre_choice not in get_unique_genres(full_movies):\n",
    "            raise ValueError (\"This is not a valid genre\")\n",
    "            \n",
    "        print(f\"Genre chosen: {genre_choice}\")\n",
    "        list_of_movies = get_movies_in_genre(genre_choice, full_movies)\n",
    "        return list_of_movies\n",
    "\n",
    "    except ValueError as e:\n",
    "        print(e)\n",
    "        \n",
    "    return get_user_genre_choice(full_movies)"
   ]
  },
  {
   "cell_type": "code",
   "execution_count": 99,
   "metadata": {},
   "outputs": [
    {
     "name": "stdout",
     "output_type": "stream",
     "text": [
      "Please pick a genre from the below options:\n",
      "\n",
      "{'Film-Noir', 'Western', 'Horror', 'Comedy', 'Action', 'Mystery', 'Adventure', 'Crime', 'Drama', 'Animation', 'Biography'}\n",
      "This is not a valid genre\n",
      "Please pick a genre from the below options:\n",
      "\n",
      "{'Film-Noir', 'Western', 'Horror', 'Comedy', 'Action', 'Mystery', 'Adventure', 'Crime', 'Drama', 'Animation', 'Biography'}\n",
      "This is not a valid genre\n",
      "Please pick a genre from the below options:\n",
      "\n",
      "{'Film-Noir', 'Western', 'Horror', 'Comedy', 'Action', 'Mystery', 'Adventure', 'Crime', 'Drama', 'Animation', 'Biography'}\n",
      "This is not a valid genre\n",
      "Please pick a genre from the below options:\n",
      "\n",
      "{'Film-Noir', 'Western', 'Horror', 'Comedy', 'Action', 'Mystery', 'Adventure', 'Crime', 'Drama', 'Animation', 'Biography'}\n",
      "Genre chosen: Horror\n"
     ]
    },
    {
     "data": {
      "text/plain": [
       "[{'title': 'Psycho',\n",
       "  'description': \"A Phoenix secretary embezzles $40,000 from her employer's client, goes on the run and checks into a remote motel run by a young man under the domination of his mother.\",\n",
       "  'genre': 'Horror',\n",
       "  'image_url': 'https://m.media-amazon.com/images/M/MV5BNTQwNDM1YzItNDAxZC00NWY2LTk0M2UtNDIwNWI5OGUyNWUxXkEyXkFqcGdeQXVyNzkwMjQ5NzM@._V1_UY67_CR0,0,45,67_AL_.jpg',\n",
       "  'link': 'https://imdb.com/title/tt0054215/?pf_rd_m=A2FGELUUNOQJNL&pf_rd_p=1a264172-ae11-42e4-8ef7-7fed1973bb8f&pf_rd_r=VZEYAR8ZVPNKZ9V7MV87&pf_rd_s=center-1&pf_rd_t=15506&pf_rd_i=top&ref_=chttp_tt_32'},\n",
       " {'title': 'Alien',\n",
       "  'description': 'The crew of a commercial spacecraft encounter a deadly lifeform after investigating an unknown transmission.',\n",
       "  'genre': 'Horror',\n",
       "  'image_url': 'https://m.media-amazon.com/images/M/MV5BOGQzZTBjMjQtOTVmMS00NGE5LWEyYmMtOGQ1ZGZjNmRkYjFhXkEyXkFqcGdeQXVyMjUzOTY1NTc@._V1_UX45_CR0,0,45,67_AL_.jpg',\n",
       "  'link': 'https://imdb.com/title/tt0078748/?pf_rd_m=A2FGELUUNOQJNL&pf_rd_p=1a264172-ae11-42e4-8ef7-7fed1973bb8f&pf_rd_r=VZEYAR8ZVPNKZ9V7MV87&pf_rd_s=center-1&pf_rd_t=15506&pf_rd_i=top&ref_=chttp_tt_50'},\n",
       " {'title': 'The Thing',\n",
       "  'description': 'A research team in Antarctica is hunted by a shape-shifting alien that assumes the appearance of its victims.',\n",
       "  'genre': 'Horror',\n",
       "  'image_url': 'https://m.media-amazon.com/images/M/MV5BNGViZWZmM2EtNGYzZi00ZDAyLTk3ODMtNzIyZTBjN2Y1NmM1XkEyXkFqcGdeQXVyNTAyODkwOQ@@._V1_UX45_CR0,0,45,67_AL_.jpg',\n",
       "  'link': 'https://imdb.com/title/tt0084787/?pf_rd_m=A2FGELUUNOQJNL&pf_rd_p=1a264172-ae11-42e4-8ef7-7fed1973bb8f&pf_rd_r=VZEYAR8ZVPNKZ9V7MV87&pf_rd_s=center-1&pf_rd_t=15506&pf_rd_i=top&ref_=chttp_tt_156'},\n",
       " {'title': 'The Exorcist',\n",
       "  'description': 'When a teenage girl is possessed by a mysterious entity, her mother seeks the help of two priests to save her daughter.',\n",
       "  'genre': 'Horror',\n",
       "  'image_url': 'https://m.media-amazon.com/images/M/MV5BYWFlZGY2NDktY2ZjOS00ZWNkLTg0ZDAtZDY4MTM1ODU4ZjljXkEyXkFqcGdeQXVyMjUzOTY1NTc@._V1_UX45_CR0,0,45,67_AL_.jpg',\n",
       "  'link': 'https://imdb.com/title/tt0070047/?pf_rd_m=A2FGELUUNOQJNL&pf_rd_p=1a264172-ae11-42e4-8ef7-7fed1973bb8f&pf_rd_r=VZEYAR8ZVPNKZ9V7MV87&pf_rd_s=center-1&pf_rd_t=15506&pf_rd_i=top&ref_=chttp_tt_226'}]"
      ]
     },
     "execution_count": 99,
     "metadata": {},
     "output_type": "execute_result"
    }
   ],
   "source": [
    "get_user_genre_choice(full_movies)"
   ]
  },
  {
   "cell_type": "code",
   "execution_count": null,
   "metadata": {},
   "outputs": [],
   "source": []
  }
 ],
 "metadata": {
  "kernelspec": {
   "display_name": "base",
   "language": "python",
   "name": "python3"
  },
  "language_info": {
   "codemirror_mode": {
    "name": "ipython",
    "version": 3
   },
   "file_extension": ".py",
   "mimetype": "text/x-python",
   "name": "python",
   "nbconvert_exporter": "python",
   "pygments_lexer": "ipython3",
   "version": "3.12.3"
  }
 },
 "nbformat": 4,
 "nbformat_minor": 2
}
